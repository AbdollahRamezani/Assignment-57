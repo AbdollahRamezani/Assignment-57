{
  "cells": [
    {
      "cell_type": "code",
      "execution_count": 2,
      "metadata": {
        "id": "S8T5SKGylFSS"
      },
      "outputs": [
        {
          "name": "stderr",
          "output_type": "stream",
          "text": [
            "Neither CUDA nor MPS are available - defaulting to CPU. Note: This module is much faster with a GPU.\n",
            "Downloading recognition model, please wait. This may take several minutes depending upon your network connection.\n"
          ]
        },
        {
          "name": "stdout",
          "output_type": "stream",
          "text": [
            "Progress: |██████████████████████████████████████████████████| 100.0% Complete"
          ]
        }
      ],
      "source": [
        "import easyocr\n",
        "reader = easyocr.Reader(['fa']) \n",
        "result = reader.readtext('io/input/persian hand.jpg') "
      ]
    },
    {
      "cell_type": "code",
      "execution_count": 3,
      "metadata": {
        "colab": {
          "base_uri": "https://localhost:8080/"
        },
        "id": "yHSXC9I4oYY5",
        "outputId": "ba911fc8-4d48-4b45-b3cf-219020d34ccb"
      },
      "outputs": [
        {
          "data": {
            "text/plain": [
              "[[[[49, 22], [214, 22], [214, 85], [49, 85]], 'چیزی نیت', 0.23733763017219867],\n",
              " [[[314, 28], [550, 28], [550, 78], [314, 78]],\n",
              "  'خرشربخی هیشه',\n",
              "  0.11612403611151181],\n",
              " [[[5, 112], [216, 112], [216, 162], [5, 162]],\n",
              "  'لنناتتکمت',\n",
              "  0.1636408415947259],\n",
              " [[[358, 130], [422, 130], [422, 162], [358, 162]],\n",
              "  'ماهی',\n",
              "  0.5601906180381775],\n",
              " [[[209.9309852784941, 37.44816761268697],\n",
              "   [307.3991041130372, 27.623472490658056],\n",
              "   [309.06901472150594, 68.55183238731303],\n",
              "   [211.60089588696277, 79.37652750934194]],\n",
              "  'ما ستن',\n",
              "  0.36719923788751385],\n",
              " [[[426.00636944292773, 122.41464971873383],\n",
              "   [560.6501017220878, 112.16245980336855],\n",
              "   [561.9936305570723, 154.5853502812662],\n",
              "   [427.34989827791225, 164.83754019663147]],\n",
              "  'خرشىختى',\n",
              "  0.9423654785570381],\n",
              " [[[207.7639320225002, 128.52786404500043],\n",
              "   [356.67885329962104, 115.23695382912831],\n",
              "   [358.2360679774998, 157.47213595499957],\n",
              "   [209.32114670037896, 170.7630461708717]],\n",
              "  'ازت عمیق',\n",
              "  0.34345240264757615]]"
            ]
          },
          "execution_count": 3,
          "metadata": {},
          "output_type": "execute_result"
        }
      ],
      "source": [
        "result "
      ]
    },
    {
      "cell_type": "code",
      "execution_count": 4,
      "metadata": {
        "colab": {
          "base_uri": "https://localhost:8080/"
        },
        "id": "cCQ2RH_AoZ3O",
        "outputId": "fae1bcac-ba02-4a20-fd59-219e31307fc8"
      },
      "outputs": [
        {
          "name": "stdout",
          "output_type": "stream",
          "text": [
            "[[[358, 130], [422, 130], [422, 162], [358, 162]], 'ماهی', 0.5601906180381775]\n",
            "[[[426.00636944292773, 122.41464971873383], [560.6501017220878, 112.16245980336855], [561.9936305570723, 154.5853502812662], [427.34989827791225, 164.83754019663147]], 'خرشىختى', 0.9423654785570381]\n"
          ]
        }
      ],
      "source": [
        "for item in result:  \n",
        "  if item[2] > 0.5:\n",
        "    print(item)"
      ]
    }
  ],
  "metadata": {
    "accelerator": "GPU",
    "colab": {
      "gpuType": "T4",
      "provenance": []
    },
    "kernelspec": {
      "display_name": "Python 3",
      "name": "python3"
    },
    "language_info": {
      "codemirror_mode": {
        "name": "ipython",
        "version": 3
      },
      "file_extension": ".py",
      "mimetype": "text/x-python",
      "name": "python",
      "nbconvert_exporter": "python",
      "pygments_lexer": "ipython3",
      "version": "3.10.8"
    }
  },
  "nbformat": 4,
  "nbformat_minor": 0
}
