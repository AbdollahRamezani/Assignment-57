{
 "cells": [
  {
   "cell_type": "code",
   "execution_count": 1,
   "metadata": {},
   "outputs": [],
   "source": [
    "import easyocr"
   ]
  },
  {
   "cell_type": "code",
   "execution_count": 2,
   "metadata": {},
   "outputs": [
    {
     "name": "stderr",
     "output_type": "stream",
     "text": [
      "Neither CUDA nor MPS are available - defaulting to CPU. Note: This module is much faster with a GPU.\n"
     ]
    },
    {
     "data": {
      "text/plain": [
       "[[[[666, 20], [797, 20], [797, 70], [666, 70]], 'يرأت', 0.07910894602537155],\n",
       " [[[160, 14], [749, 14], [749, 187], [160, 187]],\n",
       "  '١٤٧٣ج١',\n",
       "  0.7245203165547611]]"
      ]
     },
     "execution_count": 2,
     "metadata": {},
     "output_type": "execute_result"
    }
   ],
   "source": [
    "reader = easyocr.Reader(['fa']) \n",
    "result = reader.readtext('io/input/persian licens plate.jpg')  \n",
    "result"
   ]
  },
  {
   "cell_type": "code",
   "execution_count": 3,
   "metadata": {},
   "outputs": [
    {
     "data": {
      "text/plain": [
       "[[[[666, 20], [797, 20], [797, 70], [666, 70]], 'يرأت', 0.07910894602537155],\n",
       " [[[160, 14], [749, 14], [749, 187], [160, 187]],\n",
       "  '١٤٧٣ج١',\n",
       "  0.7245203165547611]]"
      ]
     },
     "execution_count": 3,
     "metadata": {},
     "output_type": "execute_result"
    }
   ],
   "source": [
    "result"
   ]
  },
  {
   "cell_type": "code",
   "execution_count": 4,
   "metadata": {},
   "outputs": [
    {
     "name": "stdout",
     "output_type": "stream",
     "text": [
      "[[[160, 14], [749, 14], [749, 187], [160, 187]], '١٤٧٣ج١', 0.7245203165547611]\n"
     ]
    }
   ],
   "source": [
    "for item in result:  \n",
    "  if item[2] > 0.5:\n",
    "    print(item)"
   ]
  }
 ],
 "metadata": {
  "kernelspec": {
   "display_name": "Python 3",
   "language": "python",
   "name": "python3"
  },
  "language_info": {
   "codemirror_mode": {
    "name": "ipython",
    "version": 3
   },
   "file_extension": ".py",
   "mimetype": "text/x-python",
   "name": "python",
   "nbconvert_exporter": "python",
   "pygments_lexer": "ipython3",
   "version": "3.10.8"
  }
 },
 "nbformat": 4,
 "nbformat_minor": 2
}
