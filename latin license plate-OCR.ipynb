{
 "cells": [
  {
   "cell_type": "code",
   "execution_count": 1,
   "metadata": {},
   "outputs": [],
   "source": [
    "import easyocr"
   ]
  },
  {
   "cell_type": "code",
   "execution_count": 3,
   "metadata": {},
   "outputs": [
    {
     "name": "stderr",
     "output_type": "stream",
     "text": [
      "Neither CUDA nor MPS are available - defaulting to CPU. Note: This module is much faster with a GPU.\n"
     ]
    },
    {
     "data": {
      "text/plain": [
       "[([[68, 16], [116, 16], [116, 44], [68, 44]], 'RJ', 0.9952597538800467),\n",
       " ([[126, 14], [334, 14], [334, 46], [126, 46]],\n",
       "  'RIO DE JANEIRO',\n",
       "  0.9598770182534068),\n",
       " ([[27, 93], [57, 93], [57, 107], [27, 107]], '1977', 0.9674113725002285),\n",
       " ([[51, 30], [346, 30], [346, 140], [51, 140]], 'WO 5869', 0.6858763980391103)]"
      ]
     },
     "execution_count": 3,
     "metadata": {},
     "output_type": "execute_result"
    }
   ],
   "source": [
    "reader = easyocr.Reader(['en']) \n",
    "result = reader.readtext('io/input/latin license plate.jpg')  \n",
    "result"
   ]
  },
  {
   "cell_type": "code",
   "execution_count": 4,
   "metadata": {},
   "outputs": [
    {
     "data": {
      "text/plain": [
       "[([[68, 16], [116, 16], [116, 44], [68, 44]], 'RJ', 0.9952597538800467),\n",
       " ([[126, 14], [334, 14], [334, 46], [126, 46]],\n",
       "  'RIO DE JANEIRO',\n",
       "  0.9598770182534068),\n",
       " ([[27, 93], [57, 93], [57, 107], [27, 107]], '1977', 0.9674113725002285),\n",
       " ([[51, 30], [346, 30], [346, 140], [51, 140]], 'WO 5869', 0.6858763980391103)]"
      ]
     },
     "execution_count": 4,
     "metadata": {},
     "output_type": "execute_result"
    }
   ],
   "source": [
    "result"
   ]
  },
  {
   "cell_type": "code",
   "execution_count": 5,
   "metadata": {},
   "outputs": [
    {
     "name": "stdout",
     "output_type": "stream",
     "text": [
      "([[68, 16], [116, 16], [116, 44], [68, 44]], 'RJ', 0.9952597538800467)\n",
      "([[126, 14], [334, 14], [334, 46], [126, 46]], 'RIO DE JANEIRO', 0.9598770182534068)\n",
      "([[27, 93], [57, 93], [57, 107], [27, 107]], '1977', 0.9674113725002285)\n",
      "([[51, 30], [346, 30], [346, 140], [51, 140]], 'WO 5869', 0.6858763980391103)\n"
     ]
    }
   ],
   "source": [
    "for item in result:  \n",
    "  if item[2] > 0.5:\n",
    "    print(item)"
   ]
  }
 ],
 "metadata": {
  "kernelspec": {
   "display_name": "Python 3",
   "language": "python",
   "name": "python3"
  },
  "language_info": {
   "codemirror_mode": {
    "name": "ipython",
    "version": 3
   },
   "file_extension": ".py",
   "mimetype": "text/x-python",
   "name": "python",
   "nbconvert_exporter": "python",
   "pygments_lexer": "ipython3",
   "version": "3.10.8"
  }
 },
 "nbformat": 4,
 "nbformat_minor": 2
}
